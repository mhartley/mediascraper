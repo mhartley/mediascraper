{
 "cells": [
  {
   "cell_type": "code",
   "execution_count": 1,
   "metadata": {
    "collapsed": true
   },
   "outputs": [],
   "source": [
    "import graphlab"
   ]
  },
  {
   "cell_type": "code",
   "execution_count": 3,
   "metadata": {},
   "outputs": [
    {
     "name": "stdout",
     "output_type": "stream",
     "text": [
      "This non-commercial license of GraphLab Create for academic use is assigned to morganhartley@gmail.com and will expire on July 25, 2018.\n"
     ]
    },
    {
     "name": "stderr",
     "output_type": "stream",
     "text": [
      "[INFO] graphlab.cython.cy_server: GraphLab Create v2.1 started. Logging: /tmp/graphlab_server_1503958837.log\n"
     ]
    },
    {
     "data": {
      "text/html": [
       "<pre>Unable to parse line \"http://www.breitbart.com/big-hollywood/2017/04/25/bachelor-star-chris-soules-arrested-for-fleeing-scene-of-accident/|<h1>‘Bachelor’ Star Chris Soules Arrested for Allegedly Fleeing Scene of Fatal Accident</h1>|<h2>Reality TV star Chris Soules, who for...\"</pre>"
      ],
      "text/plain": [
       "Unable to parse line \"http://www.breitbart.com/big-hollywood/2017/04/25/bachelor-star-chris-soules-arrested-for-fleeing-scene-of-accident/|<h1>‘Bachelor’ Star Chris Soules Arrested for Allegedly Fleeing Scene of Fatal Accident</h1>|<h2>Reality TV star Chris Soules, who for...\""
      ]
     },
     "metadata": {},
     "output_type": "display_data"
    },
    {
     "data": {
      "text/html": [
       "<pre>Unable to parse line \"http://www.breitbart.com/tech/2017/04/23/5-scientific-facts-the-science-march-refuses-to-acknowledge/?utm_source=facebook&utm_medium=social|<h1>5 Scientific Facts The ‘Science March’ Has Yet to Acknowledge</h1>|<h2>There was a “march for science” i...\"</pre>"
      ],
      "text/plain": [
       "Unable to parse line \"http://www.breitbart.com/tech/2017/04/23/5-scientific-facts-the-science-march-refuses-to-acknowledge/?utm_source=facebook&utm_medium=social|<h1>5 Scientific Facts The ‘Science March’ Has Yet to Acknowledge</h1>|<h2>There was a “march for science” i...\""
      ]
     },
     "metadata": {},
     "output_type": "display_data"
    },
    {
     "data": {
      "text/html": [
       "<pre>Unable to parse line \"http://www.breitbart.com/tech/2017/04/19/chicago-tribune-accuses-facebook-fake-news-killing-web-traffic/?utm_source=facebook&utm_medium=social|<h1>Chicago Tribune Editor Says Facebook’s Anti-Fake News Algorithm is Killing Their Traffic</h1>|<h2><a href=\"...\"</pre>"
      ],
      "text/plain": [
       "Unable to parse line \"http://www.breitbart.com/tech/2017/04/19/chicago-tribune-accuses-facebook-fake-news-killing-web-traffic/?utm_source=facebook&utm_medium=social|<h1>Chicago Tribune Editor Says Facebook’s Anti-Fake News Algorithm is Killing Their Traffic</h1>|<h2><a href=\"...\""
      ]
     },
     "metadata": {},
     "output_type": "display_data"
    },
    {
     "data": {
      "text/html": [
       "<pre>Unable to parse line \"<iframe allowfullscreen=\"allowfullscreen\" frameborder=\"0\" height=\"360\" scrolling=\"no\" src=\"http://up.anv.bz/latest/anvload.html?key=eyJtIjoiTElOIiwidiI6IjExODkwNDgiLCJwbHVnaW5zIjp7ImRmcCI6eyJjbGllbnRTaWRlIjp7ImFkVGFnVXJsIjoiaHR0cDovL3B1YmFkcy5nLmRvdWJsZWNs...\"</pre>"
      ],
      "text/plain": [
       "Unable to parse line \"<iframe allowfullscreen=\"allowfullscreen\" frameborder=\"0\" height=\"360\" scrolling=\"no\" src=\"http://up.anv.bz/latest/anvload.html?key=eyJtIjoiTElOIiwidiI6IjExODkwNDgiLCJwbHVnaW5zIjp7ImRmcCI6eyJjbGllbnRTaWRlIjp7ImFkVGFnVXJsIjoiaHR0cDovL3B1YmFkcy5nLmRvdWJsZWNs...\""
      ]
     },
     "metadata": {},
     "output_type": "display_data"
    },
    {
     "data": {
      "text/html": [
       "<pre>Unable to parse line \"</strong></p>\"</pre>"
      ],
      "text/plain": [
       "Unable to parse line \"</strong></p>\""
      ]
     },
     "metadata": {},
     "output_type": "display_data"
    },
    {
     "data": {
      "text/html": [
       "<pre>Unable to parse line \"</span></h2>\"</pre>"
      ],
      "text/plain": [
       "Unable to parse line \"</span></h2>\""
      ]
     },
     "metadata": {},
     "output_type": "display_data"
    },
    {
     "data": {
      "text/html": [
       "<pre>Unable to parse line \"http://www.breitbart.com/big-hollywood/2017/08/07/no-censorship-judd-apatow-defends-hbo-slave-drama-confederate-sjws/?utm_source=facebook&utm_medium=social|<h1>No ‘Censorship’: Judd Apatow Defends HBO Drama ‘Confederate’ from SJWs</h1>|<h2>Hollywoo...\"</pre>"
      ],
      "text/plain": [
       "Unable to parse line \"http://www.breitbart.com/big-hollywood/2017/08/07/no-censorship-judd-apatow-defends-hbo-slave-drama-confederate-sjws/?utm_source=facebook&utm_medium=social|<h1>No ‘Censorship’: Judd Apatow Defends HBO Drama ‘Confederate’ from SJWs</h1>|<h2>Hollywoo...\""
      ]
     },
     "metadata": {},
     "output_type": "display_data"
    },
    {
     "data": {
      "text/html": [
       "<pre>Unable to parse line \"<em><br/>\"</pre>"
      ],
      "text/plain": [
       "Unable to parse line \"<em><br/>\""
      ]
     },
     "metadata": {},
     "output_type": "display_data"
    },
    {
     "data": {
      "text/html": [
       "<pre>Unable to parse line \"Partial transcript as follows:<br/>\"</pre>"
      ],
      "text/plain": [
       "Unable to parse line \"Partial transcript as follows:<br/>\""
      ]
     },
     "metadata": {},
     "output_type": "display_data"
    },
    {
     "data": {
      "text/html": [
       "<pre>Unable to parse line \"</em></p>\"</pre>"
      ],
      "text/plain": [
       "Unable to parse line \"</em></p>\""
      ]
     },
     "metadata": {},
     "output_type": "display_data"
    },
    {
     "data": {
      "text/html": [
       "<pre>99 lines failed to parse correctly</pre>"
      ],
      "text/plain": [
       "99 lines failed to parse correctly"
      ]
     },
     "metadata": {},
     "output_type": "display_data"
    },
    {
     "data": {
      "text/html": [
       "<pre>Finished parsing file /Users/morgan/Documents/Code/bbscrape/bbdata.csv</pre>"
      ],
      "text/plain": [
       "Finished parsing file /Users/morgan/Documents/Code/bbscrape/bbdata.csv"
      ]
     },
     "metadata": {},
     "output_type": "display_data"
    },
    {
     "data": {
      "text/html": [
       "<pre>Parsing completed. Parsed 100 lines in 0.208316 secs.</pre>"
      ],
      "text/plain": [
       "Parsing completed. Parsed 100 lines in 0.208316 secs."
      ]
     },
     "metadata": {},
     "output_type": "display_data"
    },
    {
     "name": "stdout",
     "output_type": "stream",
     "text": [
      "------------------------------------------------------\n",
      "Inferred types from first 100 line(s) of file as \n",
      "column_type_hints=[str,str,str]\n",
      "If parsing fails due to incorrect types, you can correct\n",
      "the inferred type list above and pass it to read_csv in\n",
      "the column_type_hints argument\n",
      "------------------------------------------------------\n"
     ]
    },
    {
     "data": {
      "text/html": [
       "<pre>Unable to parse line \"http://www.breitbart.com/big-hollywood/2017/04/25/bachelor-star-chris-soules-arrested-for-fleeing-scene-of-accident/|<h1>‘Bachelor’ Star Chris Soules Arrested for Allegedly Fleeing Scene of Fatal Accident</h1>|<h2>Reality TV star Chris Soules, who for...\"</pre>"
      ],
      "text/plain": [
       "Unable to parse line \"http://www.breitbart.com/big-hollywood/2017/04/25/bachelor-star-chris-soules-arrested-for-fleeing-scene-of-accident/|<h1>‘Bachelor’ Star Chris Soules Arrested for Allegedly Fleeing Scene of Fatal Accident</h1>|<h2>Reality TV star Chris Soules, who for...\""
      ]
     },
     "metadata": {},
     "output_type": "display_data"
    },
    {
     "data": {
      "text/html": [
       "<pre>Unable to parse line \"</span></h2>\"</pre>"
      ],
      "text/plain": [
       "Unable to parse line \"</span></h2>\""
      ]
     },
     "metadata": {},
     "output_type": "display_data"
    },
    {
     "data": {
      "text/html": [
       "<pre>Unable to parse line \"<iframe allowfullscreen=\"allowfullscreen\" frameborder=\"0\" height=\"360\" scrolling=\"no\" src=\"http://up.anv.bz/latest/anvload.html?key=eyJtIjoiTElOIiwidiI6IjExODkwNDgiLCJwbHVnaW5zIjp7ImRmcCI6eyJjbGllbnRTaWRlIjp7ImFkVGFnVXJsIjoiaHR0cDovL3B1YmFkcy5nLmRvdWJsZWNs...\"</pre>"
      ],
      "text/plain": [
       "Unable to parse line \"<iframe allowfullscreen=\"allowfullscreen\" frameborder=\"0\" height=\"360\" scrolling=\"no\" src=\"http://up.anv.bz/latest/anvload.html?key=eyJtIjoiTElOIiwidiI6IjExODkwNDgiLCJwbHVnaW5zIjp7ImRmcCI6eyJjbGllbnRTaWRlIjp7ImFkVGFnVXJsIjoiaHR0cDovL3B1YmFkcy5nLmRvdWJsZWNs...\""
      ]
     },
     "metadata": {},
     "output_type": "display_data"
    },
    {
     "data": {
      "text/html": [
       "<pre>Unable to parse line \"http://www.breitbart.com/tech/2017/04/23/5-scientific-facts-the-science-march-refuses-to-acknowledge/?utm_source=facebook&utm_medium=social|<h1>5 Scientific Facts The ‘Science March’ Has Yet to Acknowledge</h1>|<h2>There was a “march for science” i...\"</pre>"
      ],
      "text/plain": [
       "Unable to parse line \"http://www.breitbart.com/tech/2017/04/23/5-scientific-facts-the-science-march-refuses-to-acknowledge/?utm_source=facebook&utm_medium=social|<h1>5 Scientific Facts The ‘Science March’ Has Yet to Acknowledge</h1>|<h2>There was a “march for science” i...\""
      ]
     },
     "metadata": {},
     "output_type": "display_data"
    },
    {
     "data": {
      "text/html": [
       "<pre>Unable to parse line \"http://www.breitbart.com/big-hollywood/2017/08/07/no-censorship-judd-apatow-defends-hbo-slave-drama-confederate-sjws/?utm_source=facebook&utm_medium=social|<h1>No ‘Censorship’: Judd Apatow Defends HBO Drama ‘Confederate’ from SJWs</h1>|<h2>Hollywoo...\"</pre>"
      ],
      "text/plain": [
       "Unable to parse line \"http://www.breitbart.com/big-hollywood/2017/08/07/no-censorship-judd-apatow-defends-hbo-slave-drama-confederate-sjws/?utm_source=facebook&utm_medium=social|<h1>No ‘Censorship’: Judd Apatow Defends HBO Drama ‘Confederate’ from SJWs</h1>|<h2>Hollywoo...\""
      ]
     },
     "metadata": {},
     "output_type": "display_data"
    },
    {
     "data": {
      "text/html": [
       "<pre>Unable to parse line \"http://www.breitbart.com/big-journalism/2017/08/01/rush-limbaugh-show-embarks-30th-year-broadcasting/?utm_source=facebook&utm_medium=social|<h1>‘The Rush Limbaugh Show’ Embarks Upon Its 30th Year of Broadcasting</h1>|<h2>On this day in 1988|<em> The R...\"</pre>"
      ],
      "text/plain": [
       "Unable to parse line \"http://www.breitbart.com/big-journalism/2017/08/01/rush-limbaugh-show-embarks-30th-year-broadcasting/?utm_source=facebook&utm_medium=social|<h1>‘The Rush Limbaugh Show’ Embarks Upon Its 30th Year of Broadcasting</h1>|<h2>On this day in 1988|<em> The R...\""
      ]
     },
     "metadata": {},
     "output_type": "display_data"
    },
    {
     "data": {
      "text/html": [
       "<pre>Unable to parse line \"The ball came off Voit’s bat at 108-mph, hitting Ray on the side of the head.</p>\"</pre>"
      ],
      "text/plain": [
       "Unable to parse line \"The ball came off Voit’s bat at 108-mph, hitting Ray on the side of the head.</p>\""
      ]
     },
     "metadata": {},
     "output_type": "display_data"
    },
    {
     "data": {
      "text/html": [
       "<pre>Unable to parse line \"</span></h2>\"</pre>"
      ],
      "text/plain": [
       "Unable to parse line \"</span></h2>\""
      ]
     },
     "metadata": {},
     "output_type": "display_data"
    },
    {
     "data": {
      "text/html": [
       "<pre>Unable to parse line \"<em><br/>\"</pre>"
      ],
      "text/plain": [
       "Unable to parse line \"<em><br/>\""
      ]
     },
     "metadata": {},
     "output_type": "display_data"
    },
    {
     "data": {
      "text/html": [
       "<pre>Unable to parse line \"Partial transcript as follows:<br/>\"</pre>"
      ],
      "text/plain": [
       "Unable to parse line \"Partial transcript as follows:<br/>\""
      ]
     },
     "metadata": {},
     "output_type": "display_data"
    },
    {
     "data": {
      "text/html": [
       "<pre>99 lines failed to parse correctly</pre>"
      ],
      "text/plain": [
       "99 lines failed to parse correctly"
      ]
     },
     "metadata": {},
     "output_type": "display_data"
    },
    {
     "data": {
      "text/html": [
       "<pre>Finished parsing file /Users/morgan/Documents/Code/bbscrape/bbdata.csv</pre>"
      ],
      "text/plain": [
       "Finished parsing file /Users/morgan/Documents/Code/bbscrape/bbdata.csv"
      ]
     },
     "metadata": {},
     "output_type": "display_data"
    },
    {
     "data": {
      "text/html": [
       "<pre>Parsing completed. Parsed 12179 lines in 0.227105 secs.</pre>"
      ],
      "text/plain": [
       "Parsing completed. Parsed 12179 lines in 0.227105 secs."
      ]
     },
     "metadata": {},
     "output_type": "display_data"
    }
   ],
   "source": [
    "articles = graphlab.SFrame.read_csv('bbdata.csv',delimiter='|',header=True)"
   ]
  },
  {
   "cell_type": "code",
   "execution_count": 69,
   "metadata": {},
   "outputs": [
    {
     "data": {
      "text/html": [
       "<div style=\"max-height:1000px;max-width:1500px;overflow:auto;\"><table frame=\"box\" rules=\"cols\">\n",
       "    <tr>\n",
       "        <th style=\"padding-left: 1em; padding-right: 1em; text-align: center\">link</th>\n",
       "        <th style=\"padding-left: 1em; padding-right: 1em; text-align: center\">title</th>\n",
       "        <th style=\"padding-left: 1em; padding-right: 1em; text-align: center\">header</th>\n",
       "        <th style=\"padding-left: 1em; padding-right: 1em; text-align: center\">clinton</th>\n",
       "        <th style=\"padding-left: 1em; padding-right: 1em; text-align: center\">trump</th>\n",
       "    </tr>\n",
       "    <tr>\n",
       "        <td style=\"padding-left: 1em; padding-right: 1em; text-align: center; vertical-align: top\">http://www.breitbart.com/<br>texas/2017/08/23/ille ...</td>\n",
       "        <td style=\"padding-left: 1em; padding-right: 1em; text-align: center; vertical-align: top\">&lt;h1&gt;Illegal Alien<br>Deported 15 Times on ...</td>\n",
       "        <td style=\"padding-left: 1em; padding-right: 1em; text-align: center; vertical-align: top\">&lt;h2&gt;An illegal alien who<br>was previously deported ...</td>\n",
       "        <td style=\"padding-left: 1em; padding-right: 1em; text-align: center; vertical-align: top\">0</td>\n",
       "        <td style=\"padding-left: 1em; padding-right: 1em; text-align: center; vertical-align: top\">0</td>\n",
       "    </tr>\n",
       "    <tr>\n",
       "        <td style=\"padding-left: 1em; padding-right: 1em; text-align: center; vertical-align: top\">http://www.breitbart.com<br>/big- ...</td>\n",
       "        <td style=\"padding-left: 1em; padding-right: 1em; text-align: center; vertical-align: top\">&lt;h1&gt;Dick Morris: Was<br>James Comey the Leade ...</td>\n",
       "        <td style=\"padding-left: 1em; padding-right: 1em; text-align: center; vertical-align: top\">&lt;h2&gt;&lt;em&gt;The following<br>excerpt is from &lt;a hr ...</td>\n",
       "        <td style=\"padding-left: 1em; padding-right: 1em; text-align: center; vertical-align: top\">0</td>\n",
       "        <td style=\"padding-left: 1em; padding-right: 1em; text-align: center; vertical-align: top\">0</td>\n",
       "    </tr>\n",
       "    <tr>\n",
       "        <td style=\"padding-left: 1em; padding-right: 1em; text-align: center; vertical-align: top\">http://www.breitbart.com<br>/big- ...</td>\n",
       "        <td style=\"padding-left: 1em; padding-right: 1em; text-align: center; vertical-align: top\">&lt;h1&gt;Woman Dead After<br>Late-Term Abortion in ...</td>\n",
       "        <td style=\"padding-left: 1em; padding-right: 1em; text-align: center; vertical-align: top\">&lt;h2&gt;An autopsy report<br>reveals a 23-year-old ...</td>\n",
       "        <td style=\"padding-left: 1em; padding-right: 1em; text-align: center; vertical-align: top\">0</td>\n",
       "        <td style=\"padding-left: 1em; padding-right: 1em; text-align: center; vertical-align: top\">0</td>\n",
       "    </tr>\n",
       "    <tr>\n",
       "        <td style=\"padding-left: 1em; padding-right: 1em; text-align: center; vertical-align: top\">http://www.breitbart.com/<br>economics/2017/08/23 ...</td>\n",
       "        <td style=\"padding-left: 1em; padding-right: 1em; text-align: center; vertical-align: top\">&lt;h1&gt;Trump: ‘We’ll<br>Probably End up ...</td>\n",
       "        <td style=\"padding-left: 1em; padding-right: 1em; text-align: center; vertical-align: top\">&lt;h2&gt;Donald Trump sent a<br>warning to Mexico on ...</td>\n",
       "        <td style=\"padding-left: 1em; padding-right: 1em; text-align: center; vertical-align: top\">0</td>\n",
       "        <td style=\"padding-left: 1em; padding-right: 1em; text-align: center; vertical-align: top\">1</td>\n",
       "    </tr>\n",
       "    <tr>\n",
       "        <td style=\"padding-left: 1em; padding-right: 1em; text-align: center; vertical-align: top\">http://www.breitbart.com<br>/big- ...</td>\n",
       "        <td style=\"padding-left: 1em; padding-right: 1em; text-align: center; vertical-align: top\">&lt;h1&gt;Liberal Historian<br>Praises ‘Brave’ ...</td>\n",
       "        <td style=\"padding-left: 1em; padding-right: 1em; text-align: center; vertical-align: top\">&lt;h2&gt;Rice University<br>professor and liberal ...</td>\n",
       "        <td style=\"padding-left: 1em; padding-right: 1em; text-align: center; vertical-align: top\">0</td>\n",
       "        <td style=\"padding-left: 1em; padding-right: 1em; text-align: center; vertical-align: top\">1</td>\n",
       "    </tr>\n",
       "    <tr>\n",
       "        <td style=\"padding-left: 1em; padding-right: 1em; text-align: center; vertical-align: top\">http://www.breitbart.com<br>/big- ...</td>\n",
       "        <td style=\"padding-left: 1em; padding-right: 1em; text-align: center; vertical-align: top\">&lt;h1&gt;Bill de Blasio Orders<br>Review of All NYC ...</td>\n",
       "        <td style=\"padding-left: 1em; padding-right: 1em; text-align: center; vertical-align: top\">&lt;h2&gt;New York City’s<br>left-wing mayor Bill de ...</td>\n",
       "        <td style=\"padding-left: 1em; padding-right: 1em; text-align: center; vertical-align: top\">0</td>\n",
       "        <td style=\"padding-left: 1em; padding-right: 1em; text-align: center; vertical-align: top\">0</td>\n",
       "    </tr>\n",
       "    <tr>\n",
       "        <td style=\"padding-left: 1em; padding-right: 1em; text-align: center; vertical-align: top\">http://www.breitbart.com<br>/big- ...</td>\n",
       "        <td style=\"padding-left: 1em; padding-right: 1em; text-align: center; vertical-align: top\">&lt;h1&gt;What Is the Goal in<br>Afghanistan? Washington ...</td>\n",
       "        <td style=\"padding-left: 1em; padding-right: 1em; text-align: center; vertical-align: top\">&lt;h2&gt;President Donald<br>Trump is set to address ...</td>\n",
       "        <td style=\"padding-left: 1em; padding-right: 1em; text-align: center; vertical-align: top\">0</td>\n",
       "        <td style=\"padding-left: 1em; padding-right: 1em; text-align: center; vertical-align: top\">0</td>\n",
       "    </tr>\n",
       "    <tr>\n",
       "        <td style=\"padding-left: 1em; padding-right: 1em; text-align: center; vertical-align: top\">http://www.breitbart.com<br>/big- ...</td>\n",
       "        <td style=\"padding-left: 1em; padding-right: 1em; text-align: center; vertical-align: top\">&lt;h1&gt;White House Leaks<br>Continue: ‘Aides’ ...</td>\n",
       "        <td style=\"padding-left: 1em; padding-right: 1em; text-align: center; vertical-align: top\">&lt;h2&gt;&lt;em&gt;More White House<br>leaks! Anonymous ...</td>\n",
       "        <td style=\"padding-left: 1em; padding-right: 1em; text-align: center; vertical-align: top\">0</td>\n",
       "        <td style=\"padding-left: 1em; padding-right: 1em; text-align: center; vertical-align: top\">1</td>\n",
       "    </tr>\n",
       "    <tr>\n",
       "        <td style=\"padding-left: 1em; padding-right: 1em; text-align: center; vertical-align: top\">http://www.breitbart.com<br>/big- ...</td>\n",
       "        <td style=\"padding-left: 1em; padding-right: 1em; text-align: center; vertical-align: top\">&lt;h1&gt;EXCLUSIVE VIDEO –<br>Race War Hoax Exposed: ...</td>\n",
       "        <td style=\"padding-left: 1em; padding-right: 1em; text-align: center; vertical-align: top\">&lt;h2&gt;Inner-city blacks are<br>rejecting calls from a ...</td>\n",
       "        <td style=\"padding-left: 1em; padding-right: 1em; text-align: center; vertical-align: top\">0</td>\n",
       "        <td style=\"padding-left: 1em; padding-right: 1em; text-align: center; vertical-align: top\">0</td>\n",
       "    </tr>\n",
       "    <tr>\n",
       "        <td style=\"padding-left: 1em; padding-right: 1em; text-align: center; vertical-align: top\">http://www.breitbart.com<br>/big-hollywood/2017/0 ...</td>\n",
       "        <td style=\"padding-left: 1em; padding-right: 1em; text-align: center; vertical-align: top\">&lt;h1&gt;Petition Launched to<br>Replace New Orleans ...</td>\n",
       "        <td style=\"padding-left: 1em; padding-right: 1em; text-align: center; vertical-align: top\">&lt;h2&gt;Fans of pop star<br>Britney Spears have ...</td>\n",
       "        <td style=\"padding-left: 1em; padding-right: 1em; text-align: center; vertical-align: top\">0</td>\n",
       "        <td style=\"padding-left: 1em; padding-right: 1em; text-align: center; vertical-align: top\">0</td>\n",
       "    </tr>\n",
       "</table>\n",
       "<table frame=\"box\" rules=\"cols\">\n",
       "    <tr>\n",
       "        <th style=\"padding-left: 1em; padding-right: 1em; text-align: center\">date</th>\n",
       "        <th style=\"padding-left: 1em; padding-right: 1em; text-align: center\">header_word_count</th>\n",
       "        <th style=\"padding-left: 1em; padding-right: 1em; text-align: center\">title_word_count</th>\n",
       "    </tr>\n",
       "    <tr>\n",
       "        <td style=\"padding-left: 1em; padding-right: 1em; text-align: center; vertical-align: top\">2017-08-23 00:00:00</td>\n",
       "        <td style=\"padding-left: 1em; padding-right: 1em; text-align: center; vertical-align: top\">{'boy.&lt;/h2&gt;': 1, 'drunk':<br>1, 'previously': 1, ' ...</td>\n",
       "        <td style=\"padding-left: 1em; padding-right: 1em; text-align: center; vertical-align: top\">{'on': 1, '15': 1,<br>'alleged': 1, 'for': 1, ...</td>\n",
       "    </tr>\n",
       "    <tr>\n",
       "        <td style=\"padding-left: 1em; padding-right: 1em; text-align: center; vertical-align: top\">2017-08-23 00:00:00</td>\n",
       "        <td style=\"padding-left: 1em; padding-right: 1em; text-align: center; vertical-align: top\">{'and': 1, 'eileen': 1,<br>'all': 1, 'mcgann,': 1, ...</td>\n",
       "        <td style=\"padding-left: 1em; padding-right: 1em; text-align: center; vertical-align: top\">{'morris:': 1, 'james':<br>1, 'coup?&lt;/h1&gt;': 1, ...</td>\n",
       "    </tr>\n",
       "    <tr>\n",
       "        <td style=\"padding-left: 1em; padding-right: 1em; text-align: center; vertical-align: top\">2017-08-23 00:00:00</td>\n",
       "        <td style=\"padding-left: 1em; padding-right: 1em; text-align: center; vertical-align: top\">{'reveals': 1, 'all': 1,<br>'facility': 1, ...</td>\n",
       "        <td style=\"padding-left: 1em; padding-right: 1em; text-align: center; vertical-align: top\">{'&lt;h1&gt;woman': 1, 'late-<br>term': 1, 'after': 1, ...</td>\n",
       "    </tr>\n",
       "    <tr>\n",
       "        <td style=\"padding-left: 1em; padding-right: 1em; text-align: center; vertical-align: top\">2017-08-23 00:00:00</td>\n",
       "        <td style=\"padding-left: 1em; padding-right: 1em; text-align: center; vertical-align: top\">{'a': 1, 'on': 1,<br>'about': 1, 'trump': 1, ...</td>\n",
       "        <td style=\"padding-left: 1em; padding-right: 1em; text-align: center; vertical-align: top\">{'end': 1, '\\xe2\\x80\\x98w<br>e\\xe2\\x80\\x99ll': 1, ...</td>\n",
       "    </tr>\n",
       "    <tr>\n",
       "        <td style=\"padding-left: 1em; padding-right: 1em; text-align: center; vertical-align: top\">2017-08-20 00:00:00</td>\n",
       "        <td style=\"padding-left: 1em; padding-right: 1em; text-align: center; vertical-align: top\">{'and': 1, 'bravely': 1,<br>'question': 1, 'into' ...</td>\n",
       "        <td style=\"padding-left: 1em; padding-right: 1em; text-align: center; vertical-align: top\">{'&lt;h1&gt;liberal': 1,<br>'praises': 1, 'for': 1, ...</td>\n",
       "    </tr>\n",
       "    <tr>\n",
       "        <td style=\"padding-left: 1em; padding-right: 1em; text-align: center; vertical-align: top\">2017-08-22 00:00:00</td>\n",
       "        <td style=\"padding-left: 1em; padding-right: 1em; text-align: center; vertical-align: top\">{'and': 3, 'all': 1,<br>'statues': 1, '&lt;h2&gt;new': ...</td>\n",
       "        <td style=\"padding-left: 1em; padding-right: 1em; text-align: center; vertical-align: top\">{'considering': 1,<br>'blasio': 1, 'all': 1, ...</td>\n",
       "    </tr>\n",
       "    <tr>\n",
       "        <td style=\"padding-left: 1em; padding-right: 1em; text-align: center; vertical-align: top\">2017-08-21 00:00:00</td>\n",
       "        <td style=\"padding-left: 1em; padding-right: 1em; text-align: center; vertical-align: top\">{'a': 1, 'on': 1,<br>'about': 1, 'his': 1, ...</td>\n",
       "        <td style=\"padding-left: 1em; padding-right: 1em; text-align: center; vertical-align: top\">{'goal': 1, 'know&lt;/h1&gt;':<br>1, 'is': 1, 'washingt ...</td>\n",
       "    </tr>\n",
       "    <tr>\n",
       "        <td style=\"padding-left: 1em; padding-right: 1em; text-align: center; vertical-align: top\">2017-08-23 00:00:00</td>\n",
       "        <td style=\"padding-left: 1em; padding-right: 1em; text-align: center; vertical-align: top\">{'and': 1, 'right': 1, '\\<br>xe2\\x80\\x9caides\\xe2\\ ...</td>\n",
       "        <td style=\"padding-left: 1em; padding-right: 1em; text-align: center; vertical-align: top\">{'vetted': 1, 'from': 1,<br>'politico': 1, 'stray ...</td>\n",
       "    </tr>\n",
       "    <tr>\n",
       "        <td style=\"padding-left: 1em; padding-right: 1em; text-align: center; vertical-align: top\">2017-08-22 00:00:00</td>\n",
       "        <td style=\"padding-left: 1em; padding-right: 1em; text-align: center; vertical-align: top\">{'and': 1, '&lt;h2&gt;inner-<br>city': 1, 'help': 1, ...</td>\n",
       "        <td style=\"padding-left: 1em; padding-right: 1em; text-align: center; vertical-align: top\">{'hoax': 1,<br>'\\xe2\\x80\\x93': 1, ...</td>\n",
       "    </tr>\n",
       "    <tr>\n",
       "        <td style=\"padding-left: 1em; padding-right: 1em; text-align: center; vertical-align: top\">2017-08-23 00:00:00</td>\n",
       "        <td style=\"padding-left: 1em; padding-right: 1em; text-align: center; vertical-align: top\">{'statues': 1, 'pop': 1,<br>'replace': 1, 'have': 1, ...</td>\n",
       "        <td style=\"padding-left: 1em; padding-right: 1em; text-align: center; vertical-align: top\">{'orleans': 1, 'britney':<br>1, 'monuments': 1, ...</td>\n",
       "    </tr>\n",
       "</table>\n",
       "[10 rows x 8 columns]<br/>\n",
       "</div>"
      ],
      "text/plain": [
       "Columns:\n",
       "\tlink\tstr\n",
       "\ttitle\tstr\n",
       "\theader\tstr\n",
       "\tclinton\tint\n",
       "\ttrump\tint\n",
       "\tdate\tdatetime\n",
       "\theader_word_count\tdict\n",
       "\ttitle_word_count\tdict\n",
       "\n",
       "Rows: 10\n",
       "\n",
       "Data:\n",
       "+-------------------------------+-------------------------------+\n",
       "|              link             |             title             |\n",
       "+-------------------------------+-------------------------------+\n",
       "| http://www.breitbart.com/t... | <h1>Illegal Alien Deported... |\n",
       "| http://www.breitbart.com/b... | <h1>Dick Morris: Was James... |\n",
       "| http://www.breitbart.com/b... | <h1>Woman Dead After Late-... |\n",
       "| http://www.breitbart.com/e... | <h1>Trump: ‘We’ll Probably... |\n",
       "| http://www.breitbart.com/b... | <h1>Liberal Historian Prai... |\n",
       "| http://www.breitbart.com/b... | <h1>Bill de Blasio Orders ... |\n",
       "| http://www.breitbart.com/b... | <h1>What Is the Goal in Af... |\n",
       "| http://www.breitbart.com/b... | <h1>White House Leaks Cont... |\n",
       "| http://www.breitbart.com/b... | <h1>EXCLUSIVE VIDEO – Race... |\n",
       "| http://www.breitbart.com/b... | <h1>Petition Launched to R... |\n",
       "+-------------------------------+-------------------------------+\n",
       "+-------------------------------+---------+-------+---------------------+\n",
       "|             header            | clinton | trump |         date        |\n",
       "+-------------------------------+---------+-------+---------------------+\n",
       "| <h2>An illegal alien who w... |    0    |   0   | 2017-08-23 00:00:00 |\n",
       "| <h2><em>The following exce... |    0    |   0   | 2017-08-23 00:00:00 |\n",
       "| <h2>An autopsy report reve... |    0    |   0   | 2017-08-23 00:00:00 |\n",
       "| <h2>Donald Trump sent a wa... |    0    |   1   | 2017-08-23 00:00:00 |\n",
       "| <h2>Rice University profes... |    0    |   1   | 2017-08-20 00:00:00 |\n",
       "| <h2>New York City’s left-w... |    0    |   0   | 2017-08-22 00:00:00 |\n",
       "| <h2>President Donald Trump... |    0    |   0   | 2017-08-21 00:00:00 |\n",
       "| <h2><em>More White House l... |    0    |   1   | 2017-08-23 00:00:00 |\n",
       "| <h2>Inner-city blacks are ... |    0    |   0   | 2017-08-22 00:00:00 |\n",
       "| <h2>Fans of pop star Britn... |    0    |   0   | 2017-08-23 00:00:00 |\n",
       "+-------------------------------+---------+-------+---------------------+\n",
       "+-------------------------------+-------------------------------+\n",
       "|       header_word_count       |        title_word_count       |\n",
       "+-------------------------------+-------------------------------+\n",
       "| {'boy.</h2>': 1, 'drunk': ... | {'on': 1, '15': 1, 'allege... |\n",
       "| {'and': 1, 'eileen': 1, 'a... | {'morris:': 1, 'james': 1,... |\n",
       "| {'reveals': 1, 'all': 1, '... | {'<h1>woman': 1, 'late-ter... |\n",
       "| {'a': 1, 'on': 1, 'about':... | {'end': 1, '\\xe2\\x80\\x98we... |\n",
       "| {'and': 1, 'bravely': 1, '... | {'<h1>liberal': 1, 'praise... |\n",
       "| {'and': 3, 'all': 1, 'stat... | {'considering': 1, 'blasio... |\n",
       "| {'a': 1, 'on': 1, 'about':... | {'goal': 1, 'know</h1>': 1... |\n",
       "| {'and': 1, 'right': 1, '\\x... | {'vetted': 1, 'from': 1, '... |\n",
       "| {'and': 1, '<h2>inner-city... | {'hoax': 1, '\\xe2\\x80\\x93'... |\n",
       "| {'statues': 1, 'pop': 1, '... | {'orleans': 1, 'britney': ... |\n",
       "+-------------------------------+-------------------------------+\n",
       "[10 rows x 8 columns]"
      ]
     },
     "execution_count": 69,
     "metadata": {},
     "output_type": "execute_result"
    }
   ],
   "source": [
    "articles.head()"
   ]
  },
  {
   "cell_type": "code",
   "execution_count": null,
   "metadata": {
    "collapsed": true
   },
   "outputs": [],
   "source": [
    "import re\n",
    "import datetime\n",
    "def return_date_from_url(url):\n",
    "    search_string = re.compile('/\\d*/\\d*/\\d*')\n",
    "    match = re.search(search_string, url)\n",
    "    if match:\n",
    "        match = match.group()\n",
    "        d = datetime.datetime.strptime(match, \"/%Y/%m/%d\").date()\n",
    "        return d\n",
    "    else:\n",
    "        return None\n"
   ]
  },
  {
   "cell_type": "code",
   "execution_count": null,
   "metadata": {
    "collapsed": true
   },
   "outputs": [],
   "source": [
    "#test function\n",
    "return_date_from_url(articles['link'][0])"
   ]
  },
  {
   "cell_type": "code",
   "execution_count": null,
   "metadata": {
    "collapsed": true
   },
   "outputs": [],
   "source": [
    "articles['date'] = articles['link'].apply(return_date_from_url)"
   ]
  },
  {
   "cell_type": "code",
   "execution_count": 67,
   "metadata": {},
   "outputs": [],
   "source": [
    "articles['header_word_count'] = graphlab.text_analytics.count_words(articles['header'])"
   ]
  },
  {
   "cell_type": "code",
   "execution_count": 68,
   "metadata": {
    "collapsed": true
   },
   "outputs": [],
   "source": [
    "articles['title_word_count'] = graphlab.text_analytics.count_words(articles['title'])"
   ]
  },
  {
   "cell_type": "code",
   "execution_count": null,
   "metadata": {
    "collapsed": true
   },
   "outputs": [],
   "source": [
    "r = dict(a.items() + b.items() + [(k, a[k] + b[k]) for k in set(b) & set(a)])"
   ]
  },
  {
   "cell_type": "code",
   "execution_count": null,
   "metadata": {
    "collapsed": true
   },
   "outputs": [],
   "source": []
  },
  {
   "cell_type": "code",
   "execution_count": 41,
   "metadata": {},
   "outputs": [],
   "source": [
    "articles['clinton'] = articles['title'].apply(lambda x: 'clinton' in x.lower())"
   ]
  },
  {
   "cell_type": "code",
   "execution_count": 42,
   "metadata": {
    "collapsed": true
   },
   "outputs": [],
   "source": [
    "articles['trump'] = articles['title'].apply(lambda x: 'trump' in x.lower())"
   ]
  },
  {
   "cell_type": "code",
   "execution_count": 43,
   "metadata": {
    "collapsed": true
   },
   "outputs": [],
   "source": [
    "trump_articles = articles[articles['trump'] > 0]"
   ]
  },
  {
   "cell_type": "code",
   "execution_count": 44,
   "metadata": {},
   "outputs": [
    {
     "data": {
      "text/plain": [
       "3655"
      ]
     },
     "execution_count": 44,
     "metadata": {},
     "output_type": "execute_result"
    }
   ],
   "source": [
    "len(trump_articles)"
   ]
  },
  {
   "cell_type": "code",
   "execution_count": 45,
   "metadata": {
    "collapsed": true
   },
   "outputs": [],
   "source": [
    "clinton_articles = articles[articles['clinton'] > 0]"
   ]
  },
  {
   "cell_type": "code",
   "execution_count": 46,
   "metadata": {},
   "outputs": [
    {
     "data": {
      "text/plain": [
       "919"
      ]
     },
     "execution_count": 46,
     "metadata": {},
     "output_type": "execute_result"
    }
   ],
   "source": [
    "len(clinton_articles)"
   ]
  },
  {
   "cell_type": "code",
   "execution_count": 38,
   "metadata": {
    "collapsed": true
   },
   "outputs": [],
   "source": []
  },
  {
   "cell_type": "code",
   "execution_count": 34,
   "metadata": {},
   "outputs": [
    {
     "data": {
      "text/plain": [
       "datetime.date(2017, 8, 23)"
      ]
     },
     "execution_count": 34,
     "metadata": {},
     "output_type": "execute_result"
    }
   ],
   "source": [
    "\n"
   ]
  },
  {
   "cell_type": "code",
   "execution_count": 40,
   "metadata": {},
   "outputs": [],
   "source": []
  },
  {
   "cell_type": "code",
   "execution_count": 56,
   "metadata": {},
   "outputs": [],
   "source": [
    "trump_articles_positive = trump_articles.filter_by(trump_articles['date'].filter(lambda x: x <= datetime.datetime(2017, 7, 1,0,0)), 'date')"
   ]
  },
  {
   "cell_type": "code",
   "execution_count": null,
   "metadata": {
    "collapsed": true
   },
   "outputs": [],
   "source": []
  }
 ],
 "metadata": {
  "kernelspec": {
   "display_name": "Python 2",
   "language": "python",
   "name": "python2"
  },
  "language_info": {
   "codemirror_mode": {
    "name": "ipython",
    "version": 2
   },
   "file_extension": ".py",
   "mimetype": "text/x-python",
   "name": "python",
   "nbconvert_exporter": "python",
   "pygments_lexer": "ipython2",
   "version": "2.7.13"
  }
 },
 "nbformat": 4,
 "nbformat_minor": 2
}
